{
 "cells": [
  {
   "cell_type": "markdown",
   "id": "e6052dfe-596d-4bfd-9330-bc77053c50a1",
   "metadata": {},
   "source": [
    "### Dog cat classifier "
   ]
  },
  {
   "cell_type": "code",
   "execution_count": 2,
   "id": "bf0b24a1-f892-4b75-8739-f612d2f5bcfe",
   "metadata": {},
   "outputs": [
    {
     "ename": "ModuleNotFoundError",
     "evalue": "No module named 'cv2'",
     "output_type": "error",
     "traceback": [
      "\u001b[1;31m---------------------------------------------------------------------------\u001b[0m",
      "\u001b[1;31mModuleNotFoundError\u001b[0m                       Traceback (most recent call last)",
      "Input \u001b[1;32mIn [2]\u001b[0m, in \u001b[0;36m<cell line: 3>\u001b[1;34m()\u001b[0m\n\u001b[0;32m      1\u001b[0m \u001b[38;5;28;01mimport\u001b[39;00m \u001b[38;5;21;01mos\u001b[39;00m \n\u001b[0;32m      2\u001b[0m \u001b[38;5;28;01mimport\u001b[39;00m \u001b[38;5;21;01mnumpy\u001b[39;00m \u001b[38;5;28;01mas\u001b[39;00m \u001b[38;5;21;01mnp\u001b[39;00m \n\u001b[1;32m----> 3\u001b[0m \u001b[38;5;28;01mimport\u001b[39;00m \u001b[38;5;21;01mcv2\u001b[39;00m    \u001b[38;5;66;03m# opencv \u001b[39;00m\n\u001b[0;32m      4\u001b[0m \u001b[38;5;28;01mfrom\u001b[39;00m \u001b[38;5;21;01mPIL\u001b[39;00m \u001b[38;5;28;01mimport\u001b[39;00m Image\n",
      "\u001b[1;31mModuleNotFoundError\u001b[0m: No module named 'cv2'"
     ]
    }
   ],
   "source": [
    "import os \n",
    "import numpy as np \n",
    "import cv2    # opencv \n",
    "from PIL import Image"
   ]
  },
  {
   "cell_type": "code",
   "execution_count": 3,
   "id": "2f2b3594",
   "metadata": {},
   "outputs": [
    {
     "name": "stdout",
     "output_type": "stream",
     "text": [
      "Defaulting to user installation because normal site-packages is not writeable\n",
      "Collecting opencv-python\n",
      "  Downloading opencv_python-4.10.0.84-cp37-abi3-win_amd64.whl (38.8 MB)\n",
      "Requirement already satisfied: numpy>=1.19.3 in c:\\users\\dalpa\\appdata\\roaming\\python\\python39\\site-packages (from opencv-python) (1.26.4)\n",
      "Installing collected packages: opencv-python\n",
      "Successfully installed opencv-python-4.10.0.84\n"
     ]
    }
   ],
   "source": [
    "!pip install opencv-python"
   ]
  },
  {
   "cell_type": "code",
   "execution_count": null,
   "id": "52a90b7f",
   "metadata": {},
   "outputs": [],
   "source": [
    "import cv2 "
   ]
  },
  {
   "cell_type": "code",
   "execution_count": null,
   "id": "87b877f6-73c4-4e0d-a4f6-da54df224dfe",
   "metadata": {},
   "outputs": [],
   "source": [
    "image_path = r\"C:\\Users\\Ranjit\\Desktop\\offline batch\\dog_cat\\images\\cats\\cat_15.jpg\"\n"
   ]
  },
  {
   "cell_type": "code",
   "execution_count": null,
   "id": "54f59a29-a8f1-4101-8152-be1a49d4f233",
   "metadata": {},
   "outputs": [],
   "source": [
    "cat_image = Image.open(image_path)"
   ]
  },
  {
   "cell_type": "code",
   "execution_count": null,
   "id": "b5f2abc7-d6bc-4bd6-ad14-2015e7ff65df",
   "metadata": {},
   "outputs": [],
   "source": [
    "cat_image"
   ]
  },
  {
   "cell_type": "code",
   "execution_count": null,
   "id": "b293580c-61db-4cf2-a0d9-2519dec9c652",
   "metadata": {},
   "outputs": [],
   "source": [
    "cat_img_array = np.array(cat_image)\n",
    "cat_img_array"
   ]
  },
  {
   "cell_type": "code",
   "execution_count": null,
   "id": "9bb8b78c-308b-4bf8-b36c-c833e2671450",
   "metadata": {},
   "outputs": [],
   "source": [
    "path_dict = {'cats':[],'dogs':[]}\n",
    "image_folder_path = r\"C:\\Users\\Ranjit\\Desktop\\offline batch\\dog_cat\\images\"\n",
    "for dir in os.listdir(image_folder_path):\n",
    "    directory_path = os.path.join(image_folder_path,dir)\n",
    "    for item in os.listdir(directory_path): \n",
    "        item_path = os.path.join(directory_path,item) \n",
    "        path_dict[dir].append(item_path)\n",
    "print(\"we have successfully done our task!\")"
   ]
  },
  {
   "cell_type": "code",
   "execution_count": null,
   "id": "9cba1aec-9c72-4a1e-ae30-b24e833d8d8a",
   "metadata": {},
   "outputs": [],
   "source": [
    "len(path_dict['dogs'])  # dogs images "
   ]
  },
  {
   "cell_type": "code",
   "execution_count": null,
   "id": "b75f5ac5-5509-4a8b-ae22-d7a596cfbbc0",
   "metadata": {},
   "outputs": [],
   "source": [
    "len(path_dict['cats'])  # cats images \n"
   ]
  },
  {
   "cell_type": "code",
   "execution_count": null,
   "id": "f1b1f913-43a8-4299-9327-32f6a9e6dd28",
   "metadata": {},
   "outputs": [],
   "source": [
    "Image.open(path_dict['cats'][15])"
   ]
  },
  {
   "cell_type": "code",
   "execution_count": null,
   "id": "a59a0477-aa70-4f64-a0c0-0db5e125269f",
   "metadata": {},
   "outputs": [],
   "source": [
    "Image.open(path_dict['dogs'][45])"
   ]
  },
  {
   "cell_type": "code",
   "execution_count": null,
   "id": "c3a1a0aa-7350-4e3f-bea4-2306f5e7393a",
   "metadata": {},
   "outputs": [],
   "source": [
    "# images read with the help of path \n",
    "\n",
    "# Image.open() \n",
    "first_image = cv2.imread(path_dict['cats'][74])\n",
    "first_image_resized = cv2.resize(first_image,(244,244))\n",
    "first_image_resized.shape "
   ]
  },
  {
   "cell_type": "code",
   "execution_count": null,
   "id": "d86ff65c-3d6b-42f3-af44-ec43abeb882d",
   "metadata": {},
   "outputs": [],
   "source": [
    "x = []\n",
    "y = [] \n",
    "\n",
    "for key,value in path_dict.items():\n",
    "    for path in value:\n",
    "        image_loaded = cv2.imread(path)\n",
    "        image_resized = cv2.resize(image_loaded,(244,244))\n",
    "        x.append(image_resized) \n",
    "        y.append(key) \n",
    "        \n",
    "    "
   ]
  }
 ],
 "metadata": {
  "kernelspec": {
   "display_name": "Python 3 (ipykernel)",
   "language": "python",
   "name": "python3"
  },
  "language_info": {
   "codemirror_mode": {
    "name": "ipython",
    "version": 3
   },
   "file_extension": ".py",
   "mimetype": "text/x-python",
   "name": "python",
   "nbconvert_exporter": "python",
   "pygments_lexer": "ipython3",
   "version": "3.9.12"
  }
 },
 "nbformat": 4,
 "nbformat_minor": 5
}
